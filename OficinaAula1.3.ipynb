{
 "cells": [
  {
   "cell_type": "code",
   "execution_count": null,
   "id": "68d04b28",
   "metadata": {},
   "outputs": [],
   "source": [
    "'''\n",
    "Oficina Aula 1.3\n",
    "Durante a aula, você aprendeu a utilizar o módulo datetime e seus tipos para trabalhar com informação de data e hora. Agora é a\n",
    "vez de praticar os seus conhecimentos. Para esta atividade, considere a situação e os dados a seguir.\n",
    "\n",
    "Seus amigos sabem que você está trabalhando com Python e estão entusiasmados com as possibilidades de aplicações. Um deles é\n",
    "muito esquecido e sugeriu que você fizesse um programa que o alerte quando for o aniversário de alguém do seu grupo de amigos.\n",
    "\n",
    "Você pediu aos seus amigos que anotassem as datas de seus aniversários em uma lista, conforme está descrito a seguir, mas cada \n",
    "pessoa escreveu de uma forma diferente, então, cabe a você interpretá-la adequadamente:\n",
    "\n",
    "aniversarios = ['01/02/1990', '22 de Maio de 1991', '04/Abr/1995', '1995-Outubro-10', '12 Julho 1989', '16 de Junho de 1987', \n",
    "'04/07/1990'].\n",
    "\n",
    "Para isso, o recomendado é criar uma lista de formatos correspondentes e aplicá-la à lista de datas de aniversários. \n",
    "O seu objetivo é criar um programa que converta a lista de datas de tipo string em uma lista de objetos do tipo data e \n",
    "organizá-los por ordem de aniversário no ano.\n",
    "Isso significa que primeiro vem o mês e, em seguida, o dia como critério de ordenação.\n",
    "\n",
    "Depois, você deve verificar se o dia de hoje é aniversário de alguém. Caso seja, você deve escrever a string “Hoje,\n",
    "(DIA DA SEMANA) (DIA) de (MÊS) de (ANO ATUAL), tem aniversário!”, em que as palavras DIA DA SEMANA, DIA, MÊS e ANO ATUAL\n",
    "devem ser substituídas pelos seus respectivos valores. As informações devem estar escritas em português.\n",
    "\n",
    "Quando você terminar, envie a resposta em um arquivo Python para a plataforma. Bom trabalho!\n",
    "'''\n",
    "\n"
   ]
  },
  {
   "cell_type": "code",
   "execution_count": 1,
   "id": "ac807c93",
   "metadata": {},
   "outputs": [
    {
     "name": "stdout",
     "output_type": "stream",
     "text": [
      "Hoje, quarta-feira 15 de março de 2023, não tem nenhum aniversário!\n"
     ]
    }
   ],
   "source": [
    "from datetime import date, timedelta, datetime\n",
    "import locale\n",
    "import re\n",
    "\n",
    "locale.setlocale(locale.LC_ALL, 'pt_BR')\n",
    "\n",
    "aniversarios = ['01/02/1990', '22 de Maio de 1991', '04/Abr/1995', '1995-Outubro-10', '12 Julho 1989', '16 de Junho de 1987', \n",
    "'04/07/1990']\n",
    "\n",
    "datasDesordenadas = []\n",
    "datasOrdenadas = []\n",
    "\n",
    "for i in aniversarios:\n",
    "    if re.findall(r'\\d{2}\\W\\d{2}\\W\\d{4}', i):\n",
    "        datasDesordenadas.append(datetime.strptime(i, '%d/%m/%Y'))\n",
    "    elif re.findall(r'\\d{2}\\s\\w+\\s\\w+\\s\\w+\\s\\d{4}', i):\n",
    "        datasDesordenadas.append(datetime.strptime(i, '%d de %B de %Y'))\n",
    "    elif re.findall(r'\\d{2}\\s\\w+\\s\\d{4}', i):\n",
    "        datasDesordenadas.append(datetime.strptime(i, '%d %B %Y'))\n",
    "    elif re.findall(r'\\d{2}\\W\\w+\\W\\d{4}', i):\n",
    "        datasDesordenadas.append(datetime.strptime(i, '%d/%b/%Y'))\n",
    "    elif re.findall(r'\\d{4}\\W\\w+\\W\\d{2}', i):\n",
    "        datasDesordenadas.append(datetime.strptime(i, '%Y-%B-%d'))\n",
    "    else:\n",
    "        print(i,': Formato não encontrado')\n",
    "\n",
    "for i in sorted(datasDesordenadas, key=lambda d: (d.month, d.day)):\n",
    "    datasOrdenadas.append(i)\n",
    "\n",
    "hoje = datetime.today()\n",
    "\n",
    "aniversario = False\n",
    "\n",
    "for i in datasOrdenadas:\n",
    "    if hoje.month==i.month and hoje.day==i.day:\n",
    "        aniversario = True\n",
    "\n",
    "if aniversario == True:\n",
    "    print(hoje.strftime('Hoje, %A %d de %B de %Y, tem aniversário!'))\n",
    "else:\n",
    "    print(hoje.strftime('Hoje, %A %d de %B de %Y, não tem nenhum aniversário!'))\n"
   ]
  },
  {
   "cell_type": "code",
   "execution_count": null,
   "id": "477c9235",
   "metadata": {},
   "outputs": [],
   "source": []
  }
 ],
 "metadata": {
  "kernelspec": {
   "display_name": "Python 3 (ipykernel)",
   "language": "python",
   "name": "python3"
  },
  "language_info": {
   "codemirror_mode": {
    "name": "ipython",
    "version": 3
   },
   "file_extension": ".py",
   "mimetype": "text/x-python",
   "name": "python",
   "nbconvert_exporter": "python",
   "pygments_lexer": "ipython3",
   "version": "3.9.13"
  }
 },
 "nbformat": 4,
 "nbformat_minor": 5
}
