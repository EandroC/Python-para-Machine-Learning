{
 "cells": [
  {
   "cell_type": "code",
   "execution_count": 1,
   "id": "aa461db3",
   "metadata": {},
   "outputs": [],
   "source": [
    "'''\n",
    "Você foi chamado para trabalhar como novo programador Python para o aplicativo Spotify, analisando as avaliações de músicas\n",
    "pelos usuários. O seu chefe está muito entusiasmado com a sua chegada e já pensou em várias perguntas para você responder.\n",
    "Ele coletou diversas avaliações dos gêneros musicais Rock e Pop.\n",
    "\n",
    "Em cada avaliação o usuário pode dar uma nota em quantidade de estrelas para uma música, de 1 a 5. Ele quer que você mapeie as \n",
    "avaliações numéricas em categorias: entre 0 e 1 estrelas é uma música ruim, entre 2 e 3 é uma música mediana e entre 4 e 5 são\n",
    "para as músicas boas. O seu papel é dizer para o seu chefe quantas músicas ruins, medianas e boas existem para cada gênero: \n",
    "Rock e Pop.\n",
    "\n",
    "Além disso, ele quer saber se existe alguma música mediana de Rock e se todas as músicas de Pop são boas. Por fim, quer saber \n",
    "qual gênero musical teve uma maior quantidade de músicas boas. Abaixo seguem as notas de cada gênero.\n",
    "\n",
    "notas_rock = [5, 1, 4, 0, 2, 5, 2, 1, 0, 5, 5, 3, 5, 2, 5, 5, 3, 5, 4, 4]\n",
    "notas_pop = [3, 2, 5, 1, 2, 1, 4, 1, 5, 0, 4, 2, 1, 2, 5, 2, 4, 4, 0, 1]\n",
    "\n",
    "Pronto, com essas informações você pode começar a desenvolver um programa em Python capaz de responder as perguntas do seu\n",
    "chefe.\n",
    "\n",
    "'''"
   ]
  },
  {
   "cell_type": "code",
   "execution_count": null,
   "id": "382c5644",
   "metadata": {},
   "outputs": [],
   "source": [
    "notas_rock = [5, 1, 4, 0, 2, 5, 2, 1, 0, 5, 5, 3, 5, 2, 5, 5, 3, 5, 4, 4]\n",
    "notas_pop = [3, 2, 5, 1, 2, 1, 4, 1, 5, 0, 4, 2, 1, 2, 5, 2, 4, 4, 0, 1]"
   ]
  },
  {
   "cell_type": "code",
   "execution_count": 2,
   "id": "81d11d52",
   "metadata": {},
   "outputs": [],
   "source": [
    "def listaRuins(nota):\n",
    "    return nota <= 1\n",
    "def listaMedianas(nota):\n",
    "    return nota >= 2 and nota <= 3 \n",
    "def listaBoas(nota):\n",
    "    return nota >= 4"
   ]
  },
  {
   "cell_type": "code",
   "execution_count": 3,
   "id": "b1c20658",
   "metadata": {},
   "outputs": [],
   "source": [
    "def filtrar(lista, criterio):\n",
    "    nova_lista = []\n",
    "    for elemento in lista:\n",
    "        if criterio(elemento):\n",
    "            nova_lista.append(elemento)\n",
    "    return nova_lista"
   ]
  },
  {
   "cell_type": "code",
   "execution_count": 4,
   "id": "d45700aa",
   "metadata": {},
   "outputs": [],
   "source": [
    "def analiseRock(musicasMedianas):\n",
    "    if len(musicasMedianas) > 0:\n",
    "        print('Existem notas medianas no gênero rock.\\n')\n",
    "    else:\n",
    "        print('Não existem notas medianas no gênero rock.\\n')\n",
    "    "
   ]
  },
  {
   "cell_type": "code",
   "execution_count": 5,
   "id": "92070e35",
   "metadata": {},
   "outputs": [],
   "source": [
    "def analisePop(musicasBoas):\n",
    "    if len(musicasBoas)==len(notas_pop):\n",
    "        print('Todas as músicas pop são boas.\\n')\n",
    "    else:\n",
    "        print('Nem todas as músicas pop são boas.\\n')"
   ]
  },
  {
   "cell_type": "code",
   "execution_count": 6,
   "id": "bc3f9067",
   "metadata": {},
   "outputs": [],
   "source": [
    "def melhorGenero(qtdBoas):\n",
    "    if qtdBoas[0] > qtdBoas[1]:\n",
    "        print('O gênero Rock possui mais músicas boas.')\n",
    "    elif qtdBoas[0] < qtdBoas[1]:\n",
    "        print('O gênero Pop possui mais músicas boas.')\n",
    "    else:\n",
    "        print('Os dois gêneros possuem a mesma quantidade de músicas boas.')"
   ]
  },
  {
   "cell_type": "code",
   "execution_count": 7,
   "id": "5072c0ff",
   "metadata": {},
   "outputs": [],
   "source": [
    "def mapeamento():\n",
    "    generos = [notas_rock, notas_pop]\n",
    "    genero = ['Rock', 'Pop']\n",
    "    cont = 0\n",
    "    qtdBoas  = []\n",
    "    \n",
    "    for i in generos:\n",
    "        musicasRuins = filtrar(i, listaRuins)\n",
    "        musicasMedianas = filtrar(i, listaMedianas)\n",
    "        musicasBoas = filtrar(i, listaBoas)\n",
    "        qtdBoas.append(len(musicasBoas))\n",
    "        \n",
    "        print('''O gênero {} possui:\\n - {} notas ruins\\n - {} notas medianas \\n - {} notas boas'''\n",
    "            .format(genero[cont], len(musicasRuins), len(musicasMedianas), len(musicasBoas)))\n",
    "            \n",
    "        if cont == 0:\n",
    "            analiseRock(musicasMedianas)\n",
    "            cont +=1\n",
    "        else:\n",
    "            analisePop(musicasBoas)\n",
    "    melhorGenero(qtdBoas)\n",
    "        "
   ]
  },
  {
   "cell_type": "code",
   "execution_count": 8,
   "id": "ef672911",
   "metadata": {},
   "outputs": [
    {
     "name": "stdout",
     "output_type": "stream",
     "text": [
      "O gênero Rock possui:\n",
      " - 4 notas ruins\n",
      " - 5 notas medianas \n",
      " - 11 notas boas\n",
      "Existem notas medianas no gênero rock.\n",
      "\n",
      "O gênero Pop possui:\n",
      " - 7 notas ruins\n",
      " - 6 notas medianas \n",
      " - 7 notas boas\n",
      "Nem todas as músicas pop são boas.\n",
      "\n",
      "O gênero Rock possui mais músicas boas.\n"
     ]
    }
   ],
   "source": [
    "mapeamento()"
   ]
  },
  {
   "cell_type": "code",
   "execution_count": null,
   "id": "6d65f0c3",
   "metadata": {},
   "outputs": [],
   "source": []
  }
 ],
 "metadata": {
  "kernelspec": {
   "display_name": "Python 3 (ipykernel)",
   "language": "python",
   "name": "python3"
  },
  "language_info": {
   "codemirror_mode": {
    "name": "ipython",
    "version": 3
   },
   "file_extension": ".py",
   "mimetype": "text/x-python",
   "name": "python",
   "nbconvert_exporter": "python",
   "pygments_lexer": "ipython3",
   "version": "3.9.13"
  }
 },
 "nbformat": 4,
 "nbformat_minor": 5
}
